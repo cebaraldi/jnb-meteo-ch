{
 "cells": [
  {
   "cell_type": "markdown",
   "id": "dc86e586-76dd-4c17-a71b-8991a4aeb840",
   "metadata": {},
   "source": [
    "# Meteostat vs. MeteoCH"
   ]
  },
  {
   "cell_type": "code",
   "execution_count": 20,
   "id": "cb62f5f5-92a3-4f67-ba48-ce03d149545f",
   "metadata": {
    "editable": true,
    "slideshow": {
     "slide_type": ""
    },
    "tags": []
   },
   "outputs": [],
   "source": [
    "# ‘Soft’ reset: Only clears your namespace, leaving history intact.\n",
    "%reset -sf\n",
    "#[Howto: Indexing DataFrames in Pandas](https://www.dataquest.io/blog/tutorial-indexing-dataframes-in-pandas/)"
   ]
  },
  {
   "cell_type": "code",
   "execution_count": 21,
   "id": "7018946d-b6b6-49f3-a1cd-f5ed41a6997e",
   "metadata": {},
   "outputs": [],
   "source": [
    "import pandas as pd\n",
    "import matplotlib.pyplot as plt\n",
    "from datetime import datetime\n",
    "from meteostat import Stations\n",
    "from meteostat import Daily\n",
    "from IPython.display import Markdown as md"
   ]
  },
  {
   "cell_type": "markdown",
   "id": "46cb07a7-cae0-41ab-8e9c-07f49471e73f",
   "metadata": {
    "editable": true,
    "slideshow": {
     "slide_type": ""
    },
    "tags": []
   },
   "source": [
    "## Weather stations at MeteoCH"
   ]
  },
  {
   "cell_type": "code",
   "execution_count": 22,
   "id": "afce72ae-6ad2-4dd6-9742-377eac7d64c4",
   "metadata": {},
   "outputs": [
    {
     "data": {
      "text/html": [
       "<div>\n",
       "<style scoped>\n",
       "    .dataframe tbody tr th:only-of-type {\n",
       "        vertical-align: middle;\n",
       "    }\n",
       "\n",
       "    .dataframe tbody tr th {\n",
       "        vertical-align: top;\n",
       "    }\n",
       "\n",
       "    .dataframe thead th {\n",
       "        text-align: right;\n",
       "    }\n",
       "</style>\n",
       "<table border=\"1\" class=\"dataframe\">\n",
       "  <thead>\n",
       "    <tr style=\"text-align: right;\">\n",
       "      <th></th>\n",
       "      <th>Station</th>\n",
       "      <th>Data since</th>\n",
       "      <th>Elevation</th>\n",
       "      <th>Latitude</th>\n",
       "      <th>Longitude</th>\n",
       "    </tr>\n",
       "  </thead>\n",
       "  <tbody>\n",
       "    <tr>\n",
       "      <th>0</th>\n",
       "      <td>Altdorf</td>\n",
       "      <td>01.01.1864</td>\n",
       "      <td>438.00</td>\n",
       "      <td>46.89</td>\n",
       "      <td>8.62</td>\n",
       "    </tr>\n",
       "    <tr>\n",
       "      <th>1</th>\n",
       "      <td>Andermatt</td>\n",
       "      <td>01.01.1864</td>\n",
       "      <td>1438.00</td>\n",
       "      <td>46.63</td>\n",
       "      <td>8.58</td>\n",
       "    </tr>\n",
       "    <tr>\n",
       "      <th>2</th>\n",
       "      <td>Basel / Binningen</td>\n",
       "      <td>01.01.1755</td>\n",
       "      <td>316.00</td>\n",
       "      <td>47.54</td>\n",
       "      <td>7.58</td>\n",
       "    </tr>\n",
       "    <tr>\n",
       "      <th>3</th>\n",
       "      <td>Bern / Zollikofen</td>\n",
       "      <td>01.01.1864</td>\n",
       "      <td>553.00</td>\n",
       "      <td>46.99</td>\n",
       "      <td>7.46</td>\n",
       "    </tr>\n",
       "    <tr>\n",
       "      <th>4</th>\n",
       "      <td>La Chaux-de-Fonds</td>\n",
       "      <td>01.01.1900</td>\n",
       "      <td>1017.00</td>\n",
       "      <td>47.08</td>\n",
       "      <td>6.79</td>\n",
       "    </tr>\n",
       "    <tr>\n",
       "      <th>5</th>\n",
       "      <td>Château-d'Oex</td>\n",
       "      <td>01.01.1879</td>\n",
       "      <td>1028.00</td>\n",
       "      <td>46.48</td>\n",
       "      <td>7.14</td>\n",
       "    </tr>\n",
       "    <tr>\n",
       "      <th>6</th>\n",
       "      <td>Chaumont</td>\n",
       "      <td>01.01.1864</td>\n",
       "      <td>1136.00</td>\n",
       "      <td>47.05</td>\n",
       "      <td>6.98</td>\n",
       "    </tr>\n",
       "    <tr>\n",
       "      <th>7</th>\n",
       "      <td>Davos</td>\n",
       "      <td>01.01.1864</td>\n",
       "      <td>1594.00</td>\n",
       "      <td>46.81</td>\n",
       "      <td>9.84</td>\n",
       "    </tr>\n",
       "    <tr>\n",
       "      <th>8</th>\n",
       "      <td>Elm</td>\n",
       "      <td>01.02.1878</td>\n",
       "      <td>958.00</td>\n",
       "      <td>46.92</td>\n",
       "      <td>9.18</td>\n",
       "    </tr>\n",
       "    <tr>\n",
       "      <th>9</th>\n",
       "      <td>Engelberg</td>\n",
       "      <td>01.01.1864</td>\n",
       "      <td>1036.00</td>\n",
       "      <td>46.82</td>\n",
       "      <td>8.41</td>\n",
       "    </tr>\n",
       "    <tr>\n",
       "      <th>10</th>\n",
       "      <td>Grächen</td>\n",
       "      <td>01.01.1864</td>\n",
       "      <td>1605.00</td>\n",
       "      <td>46.20</td>\n",
       "      <td>7.84</td>\n",
       "    </tr>\n",
       "    <tr>\n",
       "      <th>11</th>\n",
       "      <td>Grimsel Hospiz</td>\n",
       "      <td>01.01.1932</td>\n",
       "      <td>1980.00</td>\n",
       "      <td>46.57</td>\n",
       "      <td>8.33</td>\n",
       "    </tr>\n",
       "    <tr>\n",
       "      <th>12</th>\n",
       "      <td>Col du Grand St-Bernard</td>\n",
       "      <td>01.01.1818</td>\n",
       "      <td>2472.00</td>\n",
       "      <td>45.87</td>\n",
       "      <td>7.17</td>\n",
       "    </tr>\n",
       "    <tr>\n",
       "      <th>13</th>\n",
       "      <td>Genève / Cointrin</td>\n",
       "      <td>01.01.1753</td>\n",
       "      <td>411.00</td>\n",
       "      <td>46.25</td>\n",
       "      <td>6.13</td>\n",
       "    </tr>\n",
       "    <tr>\n",
       "      <th>14</th>\n",
       "      <td>Jungfraujoch</td>\n",
       "      <td>01.01.1933</td>\n",
       "      <td>3571.00</td>\n",
       "      <td>46.55</td>\n",
       "      <td>7.99</td>\n",
       "    </tr>\n",
       "    <tr>\n",
       "      <th>15</th>\n",
       "      <td>Lugano</td>\n",
       "      <td>01.01.1864</td>\n",
       "      <td>273.00</td>\n",
       "      <td>46.00</td>\n",
       "      <td>8.96</td>\n",
       "    </tr>\n",
       "    <tr>\n",
       "      <th>16</th>\n",
       "      <td>Luzern</td>\n",
       "      <td>01.01.1864</td>\n",
       "      <td>454.00</td>\n",
       "      <td>47.04</td>\n",
       "      <td>8.30</td>\n",
       "    </tr>\n",
       "    <tr>\n",
       "      <th>17</th>\n",
       "      <td>Meiringen</td>\n",
       "      <td>01.07.1889</td>\n",
       "      <td>589.00</td>\n",
       "      <td>46.73</td>\n",
       "      <td>8.17</td>\n",
       "    </tr>\n",
       "    <tr>\n",
       "      <th>18</th>\n",
       "      <td>Neuchâtel</td>\n",
       "      <td>01.01.1864</td>\n",
       "      <td>485.00</td>\n",
       "      <td>47.00</td>\n",
       "      <td>6.95</td>\n",
       "    </tr>\n",
       "    <tr>\n",
       "      <th>19</th>\n",
       "      <td>Locarno / Monti</td>\n",
       "      <td>01.12.1882</td>\n",
       "      <td>367.00</td>\n",
       "      <td>46.17</td>\n",
       "      <td>8.79</td>\n",
       "    </tr>\n",
       "    <tr>\n",
       "      <th>20</th>\n",
       "      <td>Payerne</td>\n",
       "      <td>01.08.1964</td>\n",
       "      <td>490.00</td>\n",
       "      <td>46.81</td>\n",
       "      <td>6.94</td>\n",
       "    </tr>\n",
       "    <tr>\n",
       "      <th>21</th>\n",
       "      <td>Bad Ragaz</td>\n",
       "      <td>01.06.1870</td>\n",
       "      <td>497.00</td>\n",
       "      <td>47.02</td>\n",
       "      <td>9.50</td>\n",
       "    </tr>\n",
       "    <tr>\n",
       "      <th>22</th>\n",
       "      <td>Säntis</td>\n",
       "      <td>01.01.1864</td>\n",
       "      <td>2501.00</td>\n",
       "      <td>47.25</td>\n",
       "      <td>9.34</td>\n",
       "    </tr>\n",
       "    <tr>\n",
       "      <th>23</th>\n",
       "      <td>Samedan</td>\n",
       "      <td>01.01.1864</td>\n",
       "      <td>1709.00</td>\n",
       "      <td>46.53</td>\n",
       "      <td>9.88</td>\n",
       "    </tr>\n",
       "    <tr>\n",
       "      <th>24</th>\n",
       "      <td>S. Bernardino</td>\n",
       "      <td>01.01.1864</td>\n",
       "      <td>1639.00</td>\n",
       "      <td>46.46</td>\n",
       "      <td>9.18</td>\n",
       "    </tr>\n",
       "    <tr>\n",
       "      <th>25</th>\n",
       "      <td>Segl-Maria</td>\n",
       "      <td>01.12.1863</td>\n",
       "      <td>1804.00</td>\n",
       "      <td>46.43</td>\n",
       "      <td>9.76</td>\n",
       "    </tr>\n",
       "    <tr>\n",
       "      <th>26</th>\n",
       "      <td>Sion</td>\n",
       "      <td>01.01.1864</td>\n",
       "      <td>482.00</td>\n",
       "      <td>46.22</td>\n",
       "      <td>7.33</td>\n",
       "    </tr>\n",
       "    <tr>\n",
       "      <th>27</th>\n",
       "      <td>Zürich / Fluntern</td>\n",
       "      <td>01.01.1864</td>\n",
       "      <td>556.00</td>\n",
       "      <td>47.38</td>\n",
       "      <td>8.57</td>\n",
       "    </tr>\n",
       "    <tr>\n",
       "      <th>28</th>\n",
       "      <td>St. Gallen</td>\n",
       "      <td>01.01.1864</td>\n",
       "      <td>776.00</td>\n",
       "      <td>47.43</td>\n",
       "      <td>9.40</td>\n",
       "    </tr>\n",
       "  </tbody>\n",
       "</table>\n",
       "</div>"
      ],
      "text/plain": [
       "                    Station  Data since  Elevation  Latitude  Longitude\n",
       "0                   Altdorf  01.01.1864     438.00     46.89       8.62\n",
       "1                 Andermatt  01.01.1864    1438.00     46.63       8.58\n",
       "2         Basel / Binningen  01.01.1755     316.00     47.54       7.58\n",
       "3         Bern / Zollikofen  01.01.1864     553.00     46.99       7.46\n",
       "4         La Chaux-de-Fonds  01.01.1900    1017.00     47.08       6.79\n",
       "5             Château-d'Oex  01.01.1879    1028.00     46.48       7.14\n",
       "6                  Chaumont  01.01.1864    1136.00     47.05       6.98\n",
       "7                     Davos  01.01.1864    1594.00     46.81       9.84\n",
       "8                       Elm  01.02.1878     958.00     46.92       9.18\n",
       "9                 Engelberg  01.01.1864    1036.00     46.82       8.41\n",
       "10                  Grächen  01.01.1864    1605.00     46.20       7.84\n",
       "11           Grimsel Hospiz  01.01.1932    1980.00     46.57       8.33\n",
       "12  Col du Grand St-Bernard  01.01.1818    2472.00     45.87       7.17\n",
       "13        Genève / Cointrin  01.01.1753     411.00     46.25       6.13\n",
       "14             Jungfraujoch  01.01.1933    3571.00     46.55       7.99\n",
       "15                   Lugano  01.01.1864     273.00     46.00       8.96\n",
       "16                   Luzern  01.01.1864     454.00     47.04       8.30\n",
       "17                Meiringen  01.07.1889     589.00     46.73       8.17\n",
       "18                Neuchâtel  01.01.1864     485.00     47.00       6.95\n",
       "19          Locarno / Monti  01.12.1882     367.00     46.17       8.79\n",
       "20                  Payerne  01.08.1964     490.00     46.81       6.94\n",
       "21                Bad Ragaz  01.06.1870     497.00     47.02       9.50\n",
       "22                   Säntis  01.01.1864    2501.00     47.25       9.34\n",
       "23                  Samedan  01.01.1864    1709.00     46.53       9.88\n",
       "24            S. Bernardino  01.01.1864    1639.00     46.46       9.18\n",
       "25               Segl-Maria  01.12.1863    1804.00     46.43       9.76\n",
       "26                     Sion  01.01.1864     482.00     46.22       7.33\n",
       "27        Zürich / Fluntern  01.01.1864     556.00     47.38       8.57\n",
       "28               St. Gallen  01.01.1864     776.00     47.43       9.40"
      ]
     },
     "execution_count": 22,
     "metadata": {},
     "output_type": "execute_result"
    }
   ],
   "source": [
    "url = 'https://data.geo.admin.ch'\n",
    "path = 'ch.meteoschweiz.klima/nbcn-tageswerte'\n",
    "wsurl = url + '/' + path + '/' + 'liste-download-nbcn-d.csv'\n",
    "ws = pd.read_csv(wsurl, sep=\";\", header=0, encoding = \"ISO-8859-1\").dropna()\n",
    "pd.options.display.float_format = '{:.2f}'.format\n",
    "ws.rename(columns={'Station height m. a. sea level': 'Elevation'}, inplace=True)\n",
    "ws.drop(['WIGOS-ID', 'CoordinatesE', 'CoordinatesN', 'URL Previous years (verified data)', \n",
    "         'URL Current year', 'station/location', 'Canton', 'Climate region'], axis=1)"
   ]
  },
  {
   "cell_type": "code",
   "execution_count": 23,
   "id": "bfe24b34-8d17-4596-a49b-f35d4eb311be",
   "metadata": {
    "editable": true,
    "slideshow": {
     "slide_type": ""
    },
    "tags": [
     "parameters"
    ]
   },
   "outputs": [],
   "source": [
    "# Cell tagged w/ parameters\n",
    "#\n",
    "# Calling syntax:\n",
    "# papermill Meteostat_vs_MeteoCH.ipynb foo.ipynb [-p wsno 42 -p sd 1 -p sm 2 -p sy 2022]\n",
    "sd = 15\n",
    "sm = 10\n",
    "sy = 2023\n",
    "ed = 25\n",
    "em = 10\n",
    "ey = 2023\n",
    "\n",
    "wsno = -1 # select index number from above table"
   ]
  },
  {
   "cell_type": "code",
   "execution_count": 24,
   "id": "b8317459-4ee8-43b1-86ee-ed27fbd19723",
   "metadata": {
    "editable": true,
    "slideshow": {
     "slide_type": ""
    },
    "tags": []
   },
   "outputs": [
    {
     "data": {
      "text/markdown": [
       "## Compare data of weather station St. Gallen w/ label STG located at (47.43/9.40)."
      ],
      "text/plain": [
       "<IPython.core.display.Markdown object>"
      ]
     },
     "execution_count": 24,
     "metadata": {},
     "output_type": "execute_result"
    }
   ],
   "source": [
    "# Compute start and end of period of interest\n",
    "start = datetime(sy, sm, sd)\n",
    "end = datetime(ey, em, ed)\n",
    "\n",
    "# Extracdt station name\n",
    "wstation = ws.iloc[wsno]['Station']\n",
    "df = ws[ws.Station==wstation]\n",
    "label = df.iloc[0]['station/location'] #.to_string()[::-1][0:3][::-1]\n",
    "lat = df.iloc[0]['Latitude']\n",
    "lon = df.iloc[0]['Longitude']\n",
    "md(f\"## Compare data of weather station {wstation} w/ label {label} located at ({lat:.2f}/{lon:.2f}).\")"
   ]
  },
  {
   "cell_type": "code",
   "execution_count": 25,
   "id": "2f995847-d06b-419b-ac74-c6d431b161b8",
   "metadata": {},
   "outputs": [
    {
     "data": {
      "text/markdown": [
       "## Observations at MeteoCH for St. Gallen"
      ],
      "text/plain": [
       "<IPython.core.display.Markdown object>"
      ]
     },
     "execution_count": 25,
     "metadata": {},
     "output_type": "execute_result"
    }
   ],
   "source": [
    "md(\"## Observations at MeteoCH for %s\"%(wstation))"
   ]
  },
  {
   "cell_type": "code",
   "execution_count": 26,
   "id": "1bcc1b6d-00b6-4b60-96e8-a5fec6508852",
   "metadata": {
    "editable": true,
    "slideshow": {
     "slide_type": ""
    },
    "tags": []
   },
   "outputs": [
    {
     "name": "stdout",
     "output_type": "stream",
     "text": [
      "gre000d0    11\n",
      "hto000d0    11\n",
      "nto000d0     0\n",
      "prestad0    11\n",
      "rre150d0    11\n",
      "sre000d0    11\n",
      "tre200d0    11\n",
      "tre200dn    11\n",
      "tre200dx    11\n",
      "ure200d0    11\n",
      "dtype: int64\n"
     ]
    }
   ],
   "source": [
    "filenm = \"nbcn-daily_\"\n",
    "ext=\"csv\"\n",
    "# Create urls using above selected label\n",
    "currurl = url + \"/\" + path + \"/\" + filenm + label + \"_current.\" + ext\n",
    "prevurl = url + \"/\" + path + \"/\" + filenm + label + \"_previous.\" + ext\n",
    "cf = pd.read_csv(currurl, sep=\";\", index_col='date',converters={'date':pd.to_datetime}).drop(['station/location'], axis=1) #, engine='pyarrow')\n",
    "for col in  cf.columns:\n",
    "    cf[col] = pd.to_numeric(cf[col], errors='coerce')\n",
    "pf = pd.read_csv(prevurl, sep=\";\", index_col='date',converters={'date':pd.to_datetime}).drop(['station/location'], axis=1) #, engine='pyarrow')\n",
    "for col in  pf.columns:\n",
    "    pf[col] = pd.to_numeric(pf[col], errors='coerce')\n",
    "meteoch = pd.concat([pf, cf], axis=0)\n",
    "daterange = (meteoch.index>=start)&(meteoch.index<=end)\n",
    "meteoch = meteoch.loc[daterange]\n",
    "print(meteoch.count())"
   ]
  },
  {
   "cell_type": "code",
   "execution_count": 27,
   "id": "fddab654-a2ae-4060-b826-d8fe33dda041",
   "metadata": {},
   "outputs": [],
   "source": [
    "# Rename columns in MeteoCH to allow comparison with Meteostat\n",
    "meteoch.rename(columns={'sre000d0': 'tsun','prestad0': 'pres', 'hto000d0': 'snow', 'rre150d0': 'prcp', \n",
    "                  'tre200d0': 'tavg', 'tre200dn': 'tmin', 'tre200dx': 'tmax'}, inplace=True)"
   ]
  },
  {
   "cell_type": "code",
   "execution_count": 28,
   "id": "f19f5330-0eae-4942-9a8c-6732e93121bb",
   "metadata": {},
   "outputs": [
    {
     "data": {
      "text/markdown": [
       "## Extract weather data from Meteostat using GPS coordinates of St. Gallen"
      ],
      "text/plain": [
       "<IPython.core.display.Markdown object>"
      ]
     },
     "execution_count": 28,
     "metadata": {},
     "output_type": "execute_result"
    }
   ],
   "source": [
    "md(\"## Extract weather data from Meteostat using GPS coordinates of %s\"%(wstation))"
   ]
  },
  {
   "cell_type": "code",
   "execution_count": 29,
   "id": "8c8a76f3-eb1e-4616-9bb8-504b5c7ac6c5",
   "metadata": {},
   "outputs": [
    {
     "data": {
      "text/html": [
       "<div>\n",
       "<style scoped>\n",
       "    .dataframe tbody tr th:only-of-type {\n",
       "        vertical-align: middle;\n",
       "    }\n",
       "\n",
       "    .dataframe tbody tr th {\n",
       "        vertical-align: top;\n",
       "    }\n",
       "\n",
       "    .dataframe thead th {\n",
       "        text-align: right;\n",
       "    }\n",
       "</style>\n",
       "<table border=\"1\" class=\"dataframe\">\n",
       "  <thead>\n",
       "    <tr style=\"text-align: right;\">\n",
       "      <th></th>\n",
       "      <th>name</th>\n",
       "      <th>country</th>\n",
       "      <th>wmo</th>\n",
       "      <th>latitude</th>\n",
       "      <th>longitude</th>\n",
       "      <th>elevation</th>\n",
       "      <th>distance</th>\n",
       "    </tr>\n",
       "    <tr>\n",
       "      <th>id</th>\n",
       "      <th></th>\n",
       "      <th></th>\n",
       "      <th></th>\n",
       "      <th></th>\n",
       "      <th></th>\n",
       "      <th></th>\n",
       "      <th></th>\n",
       "    </tr>\n",
       "  </thead>\n",
       "  <tbody>\n",
       "    <tr>\n",
       "      <th>06681</th>\n",
       "      <td>Saint Gallen</td>\n",
       "      <td>CH</td>\n",
       "      <td>06681</td>\n",
       "      <td>47.43</td>\n",
       "      <td>9.40</td>\n",
       "      <td>779.00</td>\n",
       "      <td>877.12</td>\n",
       "    </tr>\n",
       "    <tr>\n",
       "      <th>06690</th>\n",
       "      <td>Altenrhein-Flugplatz</td>\n",
       "      <td>CH</td>\n",
       "      <td>06690</td>\n",
       "      <td>47.48</td>\n",
       "      <td>9.38</td>\n",
       "      <td>398.00</td>\n",
       "      <td>6530.99</td>\n",
       "    </tr>\n",
       "    <tr>\n",
       "      <th>06678</th>\n",
       "      <td>Bischofszell / Sittertal</td>\n",
       "      <td>CH</td>\n",
       "      <td>06678</td>\n",
       "      <td>47.50</td>\n",
       "      <td>9.23</td>\n",
       "      <td>470.00</td>\n",
       "      <td>14691.10</td>\n",
       "    </tr>\n",
       "  </tbody>\n",
       "</table>\n",
       "</div>"
      ],
      "text/plain": [
       "                           name country    wmo  latitude  longitude  \\\n",
       "id                                                                    \n",
       "06681              Saint Gallen      CH  06681     47.43       9.40   \n",
       "06690      Altenrhein-Flugplatz      CH  06690     47.48       9.38   \n",
       "06678  Bischofszell / Sittertal      CH  06678     47.50       9.23   \n",
       "\n",
       "       elevation  distance  \n",
       "id                          \n",
       "06681     779.00    877.12  \n",
       "06690     398.00   6530.99  \n",
       "06678     470.00  14691.10  "
      ]
     },
     "execution_count": 29,
     "metadata": {},
     "output_type": "execute_result"
    }
   ],
   "source": [
    "stations = Stations()\n",
    "ws = stations.nearby(lat, lon).fetch(3)\n",
    "ws.drop(['region', 'icao', 'timezone' ,'hourly_start', 'hourly_end', 'daily_start', 'daily_end', 'monthly_start', 'monthly_end'], axis=1)"
   ]
  },
  {
   "cell_type": "markdown",
   "id": "c1115330-7718-45be-80b8-e16976700e00",
   "metadata": {},
   "source": [
    "## Observations at Meteostat"
   ]
  },
  {
   "cell_type": "code",
   "execution_count": 30,
   "id": "c8bf0b8b-39a0-4d7d-83fc-13eaa0a29807",
   "metadata": {},
   "outputs": [
    {
     "name": "stdout",
     "output_type": "stream",
     "text": [
      "tavg    11\n",
      "tmin    11\n",
      "tmax    11\n",
      "prcp     0\n",
      "snow     0\n",
      "wdir    11\n",
      "wspd    11\n",
      "wpgt    11\n",
      "pres    11\n",
      "tsun     0\n",
      "dtype: int64\n"
     ]
    }
   ],
   "source": [
    "id = ws.index.values[0]\n",
    "meteostat = Daily(id, start, end)\n",
    "meteostat = meteostat.fetch()\n",
    "print(meteostat.count())"
   ]
  },
  {
   "cell_type": "markdown",
   "id": "662b3918-fd8c-4bd5-87b8-aee723ab35c3",
   "metadata": {},
   "source": [
    "## Differences"
   ]
  },
  {
   "cell_type": "code",
   "execution_count": 31,
   "id": "36fedac8-669e-4677-9a34-0d8e490a33b2",
   "metadata": {},
   "outputs": [
    {
     "data": {
      "text/markdown": [
       "### Tabular comparison for St. Gallen"
      ],
      "text/plain": [
       "<IPython.core.display.Markdown object>"
      ]
     },
     "execution_count": 31,
     "metadata": {},
     "output_type": "execute_result"
    }
   ],
   "source": [
    "md(\"### Tabular comparison for %s\"%(wstation))"
   ]
  },
  {
   "cell_type": "code",
   "execution_count": 32,
   "id": "2cae7c76-5e8f-4f3a-9115-bcb18810be4a",
   "metadata": {},
   "outputs": [],
   "source": [
    "common = meteoch.columns.intersection(meteostat.columns)\n",
    "adiff = meteoch[common] - meteostat[common]\n",
    "rdiff = adiff/meteoch[common]"
   ]
  },
  {
   "cell_type": "markdown",
   "id": "e6c70f7c-250c-449e-a999-89a2bad3ce69",
   "metadata": {},
   "source": [
    "#### Absolute difference"
   ]
  },
  {
   "cell_type": "code",
   "execution_count": 33,
   "id": "3d68e53a-b14a-4483-8b4f-08dd04bdf8d9",
   "metadata": {},
   "outputs": [
    {
     "data": {
      "text/html": [
       "<div>\n",
       "<style scoped>\n",
       "    .dataframe tbody tr th:only-of-type {\n",
       "        vertical-align: middle;\n",
       "    }\n",
       "\n",
       "    .dataframe tbody tr th {\n",
       "        vertical-align: top;\n",
       "    }\n",
       "\n",
       "    .dataframe thead th {\n",
       "        text-align: right;\n",
       "    }\n",
       "</style>\n",
       "<table border=\"1\" class=\"dataframe\">\n",
       "  <thead>\n",
       "    <tr style=\"text-align: right;\">\n",
       "      <th></th>\n",
       "      <th>snow</th>\n",
       "      <th>pres</th>\n",
       "      <th>prcp</th>\n",
       "      <th>tsun</th>\n",
       "      <th>tavg</th>\n",
       "      <th>tmin</th>\n",
       "      <th>tmax</th>\n",
       "    </tr>\n",
       "  </thead>\n",
       "  <tbody>\n",
       "    <tr>\n",
       "      <th>count</th>\n",
       "      <td>0.0</td>\n",
       "      <td>11.0</td>\n",
       "      <td>0.0</td>\n",
       "      <td>0.0</td>\n",
       "      <td>11.0</td>\n",
       "      <td>11.0</td>\n",
       "      <td>11.0</td>\n",
       "    </tr>\n",
       "    <tr>\n",
       "      <th>mean</th>\n",
       "      <td>nan</td>\n",
       "      <td>-89.7</td>\n",
       "      <td>nan</td>\n",
       "      <td>nan</td>\n",
       "      <td>-0.0</td>\n",
       "      <td>-0.6</td>\n",
       "      <td>1.6</td>\n",
       "    </tr>\n",
       "    <tr>\n",
       "      <th>std</th>\n",
       "      <td>nan</td>\n",
       "      <td>2.1</td>\n",
       "      <td>nan</td>\n",
       "      <td>nan</td>\n",
       "      <td>0.7</td>\n",
       "      <td>0.7</td>\n",
       "      <td>2.0</td>\n",
       "    </tr>\n",
       "    <tr>\n",
       "      <th>min</th>\n",
       "      <td>nan</td>\n",
       "      <td>-92.5</td>\n",
       "      <td>nan</td>\n",
       "      <td>nan</td>\n",
       "      <td>-1.0</td>\n",
       "      <td>-1.6</td>\n",
       "      <td>-1.4</td>\n",
       "    </tr>\n",
       "    <tr>\n",
       "      <th>25%</th>\n",
       "      <td>nan</td>\n",
       "      <td>-91.1</td>\n",
       "      <td>nan</td>\n",
       "      <td>nan</td>\n",
       "      <td>-0.5</td>\n",
       "      <td>-0.8</td>\n",
       "      <td>0.3</td>\n",
       "    </tr>\n",
       "    <tr>\n",
       "      <th>50%</th>\n",
       "      <td>nan</td>\n",
       "      <td>-89.9</td>\n",
       "      <td>nan</td>\n",
       "      <td>nan</td>\n",
       "      <td>0.0</td>\n",
       "      <td>-0.7</td>\n",
       "      <td>1.1</td>\n",
       "    </tr>\n",
       "    <tr>\n",
       "      <th>75%</th>\n",
       "      <td>nan</td>\n",
       "      <td>-89.1</td>\n",
       "      <td>nan</td>\n",
       "      <td>nan</td>\n",
       "      <td>0.4</td>\n",
       "      <td>-0.3</td>\n",
       "      <td>2.6</td>\n",
       "    </tr>\n",
       "    <tr>\n",
       "      <th>max</th>\n",
       "      <td>nan</td>\n",
       "      <td>-85.9</td>\n",
       "      <td>nan</td>\n",
       "      <td>nan</td>\n",
       "      <td>1.2</td>\n",
       "      <td>1.0</td>\n",
       "      <td>4.9</td>\n",
       "    </tr>\n",
       "  </tbody>\n",
       "</table>\n",
       "</div>"
      ],
      "text/plain": [
       "      snow   pres prcp tsun  tavg  tmin  tmax\n",
       "count  0.0   11.0  0.0  0.0  11.0  11.0  11.0\n",
       "mean   nan  -89.7  nan  nan  -0.0  -0.6   1.6\n",
       "std    nan    2.1  nan  nan   0.7   0.7   2.0\n",
       "min    nan  -92.5  nan  nan  -1.0  -1.6  -1.4\n",
       "25%    nan  -91.1  nan  nan  -0.5  -0.8   0.3\n",
       "50%    nan  -89.9  nan  nan   0.0  -0.7   1.1\n",
       "75%    nan  -89.1  nan  nan   0.4  -0.3   2.6\n",
       "max    nan  -85.9  nan  nan   1.2   1.0   4.9"
      ]
     },
     "execution_count": 33,
     "metadata": {},
     "output_type": "execute_result"
    }
   ],
   "source": [
    "adiff.describe().map('{:.1f}'.format)"
   ]
  },
  {
   "cell_type": "markdown",
   "id": "65044275-22fb-4a0b-8ccf-1177962a74c0",
   "metadata": {},
   "source": [
    "#### Relative difference"
   ]
  },
  {
   "cell_type": "code",
   "execution_count": 34,
   "id": "c0b8a173-6d76-4813-b2db-20488bf5ea55",
   "metadata": {},
   "outputs": [
    {
     "data": {
      "text/html": [
       "<div>\n",
       "<style scoped>\n",
       "    .dataframe tbody tr th:only-of-type {\n",
       "        vertical-align: middle;\n",
       "    }\n",
       "\n",
       "    .dataframe tbody tr th {\n",
       "        vertical-align: top;\n",
       "    }\n",
       "\n",
       "    .dataframe thead th {\n",
       "        text-align: right;\n",
       "    }\n",
       "</style>\n",
       "<table border=\"1\" class=\"dataframe\">\n",
       "  <thead>\n",
       "    <tr style=\"text-align: right;\">\n",
       "      <th></th>\n",
       "      <th>snow</th>\n",
       "      <th>pres</th>\n",
       "      <th>prcp</th>\n",
       "      <th>tsun</th>\n",
       "      <th>tavg</th>\n",
       "      <th>tmin</th>\n",
       "      <th>tmax</th>\n",
       "    </tr>\n",
       "  </thead>\n",
       "  <tbody>\n",
       "    <tr>\n",
       "      <th>count</th>\n",
       "      <td>0.0%</td>\n",
       "      <td>1100.0%</td>\n",
       "      <td>0.0%</td>\n",
       "      <td>0.0%</td>\n",
       "      <td>1100.0%</td>\n",
       "      <td>1100.0%</td>\n",
       "      <td>1100.0%</td>\n",
       "    </tr>\n",
       "    <tr>\n",
       "      <th>mean</th>\n",
       "      <td>nan%</td>\n",
       "      <td>-9.8%</td>\n",
       "      <td>nan%</td>\n",
       "      <td>nan%</td>\n",
       "      <td>-1.9%</td>\n",
       "      <td>-13.5%</td>\n",
       "      <td>9.4%</td>\n",
       "    </tr>\n",
       "    <tr>\n",
       "      <th>std</th>\n",
       "      <td>nan%</td>\n",
       "      <td>0.2%</td>\n",
       "      <td>nan%</td>\n",
       "      <td>nan%</td>\n",
       "      <td>7.9%</td>\n",
       "      <td>15.5%</td>\n",
       "      <td>11.0%</td>\n",
       "    </tr>\n",
       "    <tr>\n",
       "      <th>min</th>\n",
       "      <td>nan%</td>\n",
       "      <td>-10.0%</td>\n",
       "      <td>nan%</td>\n",
       "      <td>nan%</td>\n",
       "      <td>-14.5%</td>\n",
       "      <td>-47.4%</td>\n",
       "      <td>-12.5%</td>\n",
       "    </tr>\n",
       "    <tr>\n",
       "      <th>25%</th>\n",
       "      <td>nan%</td>\n",
       "      <td>-9.9%</td>\n",
       "      <td>nan%</td>\n",
       "      <td>nan%</td>\n",
       "      <td>-7.5%</td>\n",
       "      <td>-21.5%</td>\n",
       "      <td>3.0%</td>\n",
       "    </tr>\n",
       "    <tr>\n",
       "      <th>50%</th>\n",
       "      <td>nan%</td>\n",
       "      <td>-9.8%</td>\n",
       "      <td>nan%</td>\n",
       "      <td>nan%</td>\n",
       "      <td>0.0%</td>\n",
       "      <td>-8.5%</td>\n",
       "      <td>10.9%</td>\n",
       "    </tr>\n",
       "    <tr>\n",
       "      <th>75%</th>\n",
       "      <td>nan%</td>\n",
       "      <td>-9.7%</td>\n",
       "      <td>nan%</td>\n",
       "      <td>nan%</td>\n",
       "      <td>3.6%</td>\n",
       "      <td>-6.2%</td>\n",
       "      <td>16.3%</td>\n",
       "    </tr>\n",
       "    <tr>\n",
       "      <th>max</th>\n",
       "      <td>nan%</td>\n",
       "      <td>-9.4%</td>\n",
       "      <td>nan%</td>\n",
       "      <td>nan%</td>\n",
       "      <td>8.8%</td>\n",
       "      <td>10.8%</td>\n",
       "      <td>25.8%</td>\n",
       "    </tr>\n",
       "  </tbody>\n",
       "</table>\n",
       "</div>"
      ],
      "text/plain": [
       "       snow     pres  prcp  tsun     tavg     tmin     tmax\n",
       "count  0.0%  1100.0%  0.0%  0.0%  1100.0%  1100.0%  1100.0%\n",
       "mean   nan%    -9.8%  nan%  nan%    -1.9%   -13.5%     9.4%\n",
       "std    nan%     0.2%  nan%  nan%     7.9%    15.5%    11.0%\n",
       "min    nan%   -10.0%  nan%  nan%   -14.5%   -47.4%   -12.5%\n",
       "25%    nan%    -9.9%  nan%  nan%    -7.5%   -21.5%     3.0%\n",
       "50%    nan%    -9.8%  nan%  nan%     0.0%    -8.5%    10.9%\n",
       "75%    nan%    -9.7%  nan%  nan%     3.6%    -6.2%    16.3%\n",
       "max    nan%    -9.4%  nan%  nan%     8.8%    10.8%    25.8%"
      ]
     },
     "execution_count": 34,
     "metadata": {},
     "output_type": "execute_result"
    }
   ],
   "source": [
    "rdiff.describe().map('{:.1%}'.format)"
   ]
  },
  {
   "cell_type": "code",
   "execution_count": 35,
   "id": "ac20fd7d-9efc-4e9b-b762-acae60de1196",
   "metadata": {},
   "outputs": [
    {
     "data": {
      "text/markdown": [
       "### Graphical comparison for St. Gallen"
      ],
      "text/plain": [
       "<IPython.core.display.Markdown object>"
      ]
     },
     "execution_count": 35,
     "metadata": {},
     "output_type": "execute_result"
    }
   ],
   "source": [
    "md(\"### Graphical comparison for %s\"%(wstation))"
   ]
  },
  {
   "cell_type": "code",
   "execution_count": 36,
   "id": "e418f6b3-59f2-4635-a083-93c6c88f9b1f",
   "metadata": {},
   "outputs": [],
   "source": [
    "plt.style.use('ggplot')\n",
    "# print(plt.style.available)\n",
    "fswidth = 10\n",
    "fsheight = 5"
   ]
  },
  {
   "cell_type": "code",
   "execution_count": 37,
   "id": "e103b99d-8716-4e84-87f3-e10cb49ad93c",
   "metadata": {},
   "outputs": [
    {
     "data": {
      "image/png": "[encoded data removed]",
      "text/plain": [
       "<Figure size 1000x500 with 1 Axes>"
      ]
     },
     "metadata": {},
     "output_type": "display_data"
    }
   ],
   "source": [
    "fig, axs = plt.subplots(figsize=(fswidth, fsheight))\n",
    "\n",
    "axs.plot(adiff)\n",
    "axs.grid(visible='visible', which='major', color='0.8', linestyle='-')\n",
    "\n",
    "plt.xlabel('Date')\n",
    "plt.ylabel('Absolute difference')\n",
    "plt.title(f'Absolute difference btw. MeteoCH and Meteostat for {wstation}')\n",
    "plt.xticks(rotation=30)\n",
    "plt.legend(adiff.columns, loc=\"center right\")\n",
    "plt.show()"
   ]
  },
  {
   "cell_type": "code",
   "execution_count": 38,
   "id": "7c5fd587-449e-45e9-9e28-3962b0314d4b",
   "metadata": {},
   "outputs": [
    {
     "data": {
      "image/png": "[encoded data removed]",
      "text/plain": [
       "<Figure size 1000x500 with 1 Axes>"
      ]
     },
     "metadata": {},
     "output_type": "display_data"
    }
   ],
   "source": [
    "fig, axs = plt.subplots(figsize=(fswidth, fsheight))\n",
    "\n",
    "axs.plot(rdiff)\n",
    "axs.grid(visible='visible', which='major', color='0.8', linestyle='-')\n",
    "\n",
    "plt.xlabel('Date')\n",
    "plt.ylabel('Relative difference')\n",
    "plt.title(f'Relative difference btw. MeteoCH and Meteostat for {wstation}')\n",
    "plt.xticks(rotation=30)\n",
    "plt.legend(rdiff.columns, loc=\"center right\")\n",
    "plt.show()"
   ]
  }
 ],
 "metadata": {
  "kernelspec": {
   "display_name": "Python 3 (ipykernel)",
   "language": "python",
   "name": "python3"
  },
  "language_info": {
   "codemirror_mode": {
    "name": "ipython",
    "version": 3
   },
   "file_extension": ".py",
   "mimetype": "text/x-python",
   "name": "python",
   "nbconvert_exporter": "python",
   "pygments_lexer": "ipython3",
   "version": "3.10.13"
  }
 },
 "nbformat": 4,
 "nbformat_minor": 5
}
